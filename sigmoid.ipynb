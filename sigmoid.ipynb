{
 "cells": [
  {
   "cell_type": "code",
   "execution_count": 10,
   "metadata": {},
   "outputs": [],
   "source": [
    "import numpy as np\n",
    "import matplotlib.pyplot as plt\n",
    "\n",
    "%matplotlib inline"
   ]
  },
  {
   "cell_type": "raw",
   "metadata": {},
   "source": [
    "x = np.linspace(-10,10,100)\n",
    "\n",
    "print x.reshape(10,10)"
   ]
  },
  {
   "cell_type": "code",
   "execution_count": 7,
   "metadata": {
    "collapsed": true
   },
   "outputs": [],
   "source": [
    "\n",
    "def sigmoid(x):\n",
    "    return 1/(1+np.exp(-x))"
   ]
  },
  {
   "cell_type": "code",
   "execution_count": 13,
   "metadata": {},
   "outputs": [
    {
     "name": "stdout",
     "output_type": "stream",
     "text": [
      "[  4.53978687e-05   5.55606489e-05   6.79983174e-05   8.32200197e-05\n",
      "   1.01848815e-04   1.24647146e-04   1.52547986e-04   1.86692945e-04\n",
      "   2.28478855e-04   2.79614739e-04   3.42191434e-04   4.18766684e-04\n",
      "   5.12469082e-04   6.27124987e-04   7.67413430e-04   9.39055039e-04\n",
      "   1.14904229e-03   1.40591988e-03   1.72012560e-03   2.10440443e-03\n",
      "   2.57431039e-03   3.14881358e-03   3.85103236e-03   4.70911357e-03\n",
      "   5.75728612e-03   7.03711536e-03   8.59898661e-03   1.05038445e-02\n",
      "   1.28252101e-02   1.56514861e-02   1.90885420e-02   2.32625358e-02\n",
      "   2.83228820e-02   3.44451957e-02   4.18339400e-02   5.07243606e-02\n",
      "   6.13831074e-02   7.41067363e-02   8.92170603e-02   1.07052146e-01\n",
      "   1.27951705e-01   1.52235823e-01   1.80176593e-01   2.11963334e-01\n",
      "   2.47663801e-01   2.87185901e-01   3.30246430e-01   3.76354517e-01\n",
      "   4.24816868e-01   4.74768924e-01   5.25231076e-01   5.75183132e-01\n",
      "   6.23645483e-01   6.69753570e-01   7.12814099e-01   7.52336199e-01\n",
      "   7.88036666e-01   8.19823407e-01   8.47764177e-01   8.72048295e-01\n",
      "   8.92947854e-01   9.10782940e-01   9.25893264e-01   9.38616893e-01\n",
      "   9.49275639e-01   9.58166060e-01   9.65554804e-01   9.71677118e-01\n",
      "   9.76737464e-01   9.80911458e-01   9.84348514e-01   9.87174790e-01\n",
      "   9.89496155e-01   9.91401013e-01   9.92962885e-01   9.94242714e-01\n",
      "   9.95290886e-01   9.96148968e-01   9.96851186e-01   9.97425690e-01\n",
      "   9.97895596e-01   9.98279874e-01   9.98594080e-01   9.98850958e-01\n",
      "   9.99060945e-01   9.99232587e-01   9.99372875e-01   9.99487531e-01\n",
      "   9.99581233e-01   9.99657809e-01   9.99720385e-01   9.99771521e-01\n",
      "   9.99813307e-01   9.99847452e-01   9.99875353e-01   9.99898151e-01\n",
      "   9.99916780e-01   9.99932002e-01   9.99944439e-01   9.99954602e-01]\n"
     ]
    }
   ],
   "source": [
    "y = sigmoid(x)\n",
    "\n",
    "print y\n",
    "\n"
   ]
  },
  {
   "cell_type": "code",
   "execution_count": 14,
   "metadata": {},
   "outputs": [
    {
     "data": {
      "image/png": "[encoded data removed]",
      "text/plain": [
       "<matplotlib.figure.Figure at 0x7fa11bc06e10>"
      ]
     },
     "metadata": {},
     "output_type": "display_data"
    }
   ],
   "source": [
    "plt.plot(y)\n",
    "plt.grid()"
   ]
  },
  {
   "cell_type": "code",
   "execution_count": null,
   "metadata": {
    "collapsed": true
   },
   "outputs": [],
   "source": []
  }
 ],
 "metadata": {
  "kernelspec": {
   "display_name": "Python 2",
   "language": "python",
   "name": "python2"
  },
  "language_info": {
   "codemirror_mode": {
    "name": "ipython",
    "version": 2
   },
   "file_extension": ".py",
   "mimetype": "text/x-python",
   "name": "python",
   "nbconvert_exporter": "python",
   "pygments_lexer": "ipython2",
   "version": "2.7.14"
  }
 },
 "nbformat": 4,
 "nbformat_minor": 2
}
